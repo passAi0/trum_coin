{
 "cells": [
  {
   "cell_type": "code",
   "execution_count": 8,
   "id": "4a7240c2-237a-445e-8d5f-0296eb74b55d",
   "metadata": {},
   "outputs": [
    {
     "name": "stdout",
     "output_type": "stream",
     "text": [
      "4f27f28a72a5f7fca0311fc958b8e1e04bf7293b5cae94fc735f2edb7a08f2c3\n"
     ]
    }
   ],
   "source": [
    "import secrets\n",
    "print(secrets.token_hex(32))\n"
   ]
  },
  {
   "cell_type": "code",
   "execution_count": null,
   "id": "af6b752b-7d0e-410a-89e4-cc3928992b35",
   "metadata": {},
   "outputs": [],
   "source": []
  }
 ],
 "metadata": {
  "kernelspec": {
   "display_name": "Python 3 (ipykernel)",
   "language": "python",
   "name": "python3"
  },
  "language_info": {
   "codemirror_mode": {
    "name": "ipython",
    "version": 3
   },
   "file_extension": ".py",
   "mimetype": "text/x-python",
   "name": "python",
   "nbconvert_exporter": "python",
   "pygments_lexer": "ipython3",
   "version": "3.12.6"
  }
 },
 "nbformat": 4,
 "nbformat_minor": 5
}
