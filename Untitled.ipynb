{
 "cells": [
  {
   "cell_type": "code",
   "execution_count": 8,
   "id": "4a7240c2-237a-445e-8d5f-0296eb74b55d",
   "metadata": {},
   "outputs": [
    {
     "name": "stdout",
     "output_type": "stream",
     "text": [
      "4f27f28a72a5f7fca0311fc958b8e1e04bf7293b5cae94fc735f2edb7a08f2c3\n"
     ]
    }
   ],
   "source": [
    "import secrets\n",
    "print(secrets.token_hex(32))\n"
   ]
  },
  {
   "cell_type": "code",
   "execution_count": 2,
   "id": "2e9227a1-bb5d-483c-b9ad-1be221dc1eb9",
   "metadata": {},
   "outputs": [
    {
     "name": "stdout",
     "output_type": "stream",
     "text": [
      "✅ Database tables created!\n"
     ]
    }
   ],
   "source": [
    "from app import app, db\n",
    "\n",
    "with app.app_context():\n",
    "    db.create_all()\n",
    "    print(\"✅ Database tables created!\")\n"
   ]
  },
  {
   "cell_type": "code",
   "execution_count": null,
   "id": "9d313f39-9c0c-46c2-9c79-95d2a47c3f55",
   "metadata": {},
   "outputs": [],
   "source": []
  }
 ],
 "metadata": {
  "kernelspec": {
   "display_name": "Python 3 (ipykernel)",
   "language": "python",
   "name": "python3"
  },
  "language_info": {
   "codemirror_mode": {
    "name": "ipython",
    "version": 3
   },
   "file_extension": ".py",
   "mimetype": "text/x-python",
   "name": "python",
   "nbconvert_exporter": "python",
   "pygments_lexer": "ipython3",
   "version": "3.12.6"
  }
 },
 "nbformat": 4,
 "nbformat_minor": 5
}
