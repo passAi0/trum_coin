{
 "cells": [
  {
   "cell_type": "code",
   "execution_count": 1,
   "id": "4a7240c2-237a-445e-8d5f-0296eb74b55d",
   "metadata": {},
   "outputs": [
    {
     "name": "stdout",
     "output_type": "stream",
     "text": [
      "c1926a4f130c8b1e7c8f2974a5c32e0e14210028386339e0f62bda937643a8af\n"
     ]
    }
   ],
   "source": [
    "import secrets\n",
    "print(secrets.token_hex(32))\n"
   ]
  },
  {
   "cell_type": "code",
   "execution_count": null,
   "id": "bd94855e-5132-47c3-8b74-c0336a5b6c63",
   "metadata": {},
   "outputs": [],
   "source": []
  }
 ],
 "metadata": {
  "kernelspec": {
   "display_name": "Python 3 (ipykernel)",
   "language": "python",
   "name": "python3"
  },
  "language_info": {
   "codemirror_mode": {
    "name": "ipython",
    "version": 3
   },
   "file_extension": ".py",
   "mimetype": "text/x-python",
   "name": "python",
   "nbconvert_exporter": "python",
   "pygments_lexer": "ipython3",
   "version": "3.12.6"
  }
 },
 "nbformat": 4,
 "nbformat_minor": 5
}
